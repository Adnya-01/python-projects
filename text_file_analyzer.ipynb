{
  "nbformat": 4,
  "nbformat_minor": 0,
  "metadata": {
    "colab": {
      "provenance": [],
      "authorship_tag": "ABX9TyP8WGGKXHd79DqXLqyGC3rb",
      "include_colab_link": true
    },
    "kernelspec": {
      "name": "python3",
      "display_name": "Python 3"
    },
    "language_info": {
      "name": "python"
    }
  },
  "cells": [
    {
      "cell_type": "markdown",
      "metadata": {
        "id": "view-in-github",
        "colab_type": "text"
      },
      "source": [
        "<a href=\"https://colab.research.google.com/github/Adnya-01/python-projects/blob/main/text_file_analyzer.ipynb\" target=\"_parent\"><img src=\"https://colab.research.google.com/assets/colab-badge.svg\" alt=\"Open In Colab\"/></a>"
      ]
    },
    {
      "cell_type": "code",
      "execution_count": null,
      "metadata": {
        "id": "5TyXr4cmCqG4"
      },
      "outputs": [],
      "source": [
        "from collections import Counter\n",
        "import string"
      ]
    },
    {
      "cell_type": "code",
      "source": [
        "def read_file(file_path):\n",
        "  try:\n",
        "    with open(file_path, 'r') as f:\n",
        "      return f.readlines()\n",
        "  except FileNotFoundError:\n",
        "    print(\"File not found. Please check the file path\")\n",
        "    return []"
      ],
      "metadata": {
        "id": "Vy1gAf-bC_DC"
      },
      "execution_count": null,
      "outputs": []
    },
    {
      "cell_type": "code",
      "source": [
        "def count_lines(file_content):\n",
        "  return len(file_content)"
      ],
      "metadata": {
        "id": "hbDiK6LQEQL8"
      },
      "execution_count": null,
      "outputs": []
    },
    {
      "cell_type": "code",
      "source": [
        "def count_words(file_content):\n",
        "  word_count = 0\n",
        "  for line in file_content:\n",
        "    words = line.split()\n",
        "    word_count += len(words)\n",
        "  return word_count"
      ],
      "metadata": {
        "id": "fQOTlR26EWcu"
      },
      "execution_count": null,
      "outputs": []
    },
    {
      "cell_type": "code",
      "source": [
        "def most_frequent_words(file_content, num_words = 10):\n",
        "  words = []\n",
        "  for line in file_content:\n",
        "    words.extend(line.translate(str.maketrans('', '', string.punctuation)).lower().split())\n",
        "\n",
        "  word_counter = Counter(words)\n",
        "  return word_counter.most_common(num_words)"
      ],
      "metadata": {
        "id": "-Tkrgy83EqmG"
      },
      "execution_count": null,
      "outputs": []
    },
    {
      "cell_type": "code",
      "source": [
        "def display_statistics(file_path):\n",
        "  content = read_file(file_path)\n",
        "  if content:\n",
        "    print(\"Line count: \", count_lines(content))\n",
        "    print(\"Word count: \", count_words(content))\n",
        "    print(\"Most frequent words: \")\n",
        "    for word, count in most_frequent_words(content):\n",
        "      print(word, \": \", count)\n"
      ],
      "metadata": {
        "id": "oXBKbrA0FiW7"
      },
      "execution_count": null,
      "outputs": []
    },
    {
      "cell_type": "code",
      "source": [
        "def main():\n",
        "  file_path = input(\"Enter the file path of the text file to be analyzed: \")\n",
        "  display_statistics(file_path)\n",
        "\n",
        "if __name__ == \"__main__\":\n",
        "  main()"
      ],
      "metadata": {
        "colab": {
          "base_uri": "https://localhost:8080/"
        },
        "id": "V8tcygBHGJy0",
        "outputId": "35b8a6b9-b933-46c4-94e8-34d739218494"
      },
      "execution_count": null,
      "outputs": [
        {
          "output_type": "stream",
          "name": "stdout",
          "text": [
            "Enter the file path of the text file to be analyzed: /content/sample_data/python.txt\n",
            "Line count:  7\n",
            "Word count:  289\n",
            "Most frequent words: \n",
            "the :  13\n",
            "python :  12\n",
            "to :  8\n",
            "a :  7\n",
            "and :  7\n",
            "was :  5\n",
            "in :  5\n",
            "as :  5\n",
            "at :  4\n",
            "of :  4\n"
          ]
        }
      ]
    },
    {
      "cell_type": "code",
      "source": [],
      "metadata": {
        "id": "vs2W20YpGgfC"
      },
      "execution_count": null,
      "outputs": []
    }
  ]
}