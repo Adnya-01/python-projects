{
  "nbformat": 4,
  "nbformat_minor": 0,
  "metadata": {
    "colab": {
      "provenance": [],
      "authorship_tag": "ABX9TyPYDQJ953PKsmnpnCJ8HfGO",
      "include_colab_link": true
    },
    "kernelspec": {
      "name": "python3",
      "display_name": "Python 3"
    },
    "language_info": {
      "name": "python"
    }
  },
  "cells": [
    {
      "cell_type": "markdown",
      "metadata": {
        "id": "view-in-github",
        "colab_type": "text"
      },
      "source": [
        "<a href=\"https://colab.research.google.com/github/Adnya-01/python-projects/blob/main/ip_add_validator.ipynb\" target=\"_parent\"><img src=\"https://colab.research.google.com/assets/colab-badge.svg\" alt=\"Open In Colab\"/></a>"
      ]
    },
    {
      "cell_type": "code",
      "execution_count": 1,
      "metadata": {
        "id": "hSK5Ubv7JHk6"
      },
      "outputs": [],
      "source": [
        "import re"
      ]
    },
    {
      "cell_type": "code",
      "source": [
        "def is_valid_ip(ip):\n",
        "  pattern = re.compile(r'^(\\d{1,3}\\.){3}\\d{1,3}$')\n",
        "  if pattern.match(ip):\n",
        "    parts = ip.split('.')\n",
        "    for part in parts:\n",
        "      if int(part) < 0 or int(part) > 255:\n",
        "        return False\n",
        "      return True\n",
        "    return False\n"
      ],
      "metadata": {
        "id": "h-1bk-jjKBSY"
      },
      "execution_count": 10,
      "outputs": []
    },
    {
      "cell_type": "code",
      "source": [
        "def main():\n",
        "  while True:\n",
        "    ip = input(\"Enter your IP address (or 'exit' to quit): \")\n",
        "    if ip.lower() == 'exit':\n",
        "      break\n",
        "    if is_valid_ip(ip):\n",
        "      print(\"Valid IP address\")\n",
        "    else:\n",
        "      print(\"Invalid IP address\")\n",
        ""
      ],
      "metadata": {
        "id": "ekrTCt2yLjUk"
      },
      "execution_count": 11,
      "outputs": []
    },
    {
      "cell_type": "code",
      "source": [
        "if __name__  == \"__main__\":\n",
        "  main()"
      ],
      "metadata": {
        "colab": {
          "base_uri": "https://localhost:8080/"
        },
        "id": "wBK-IEjJL6ZY",
        "outputId": "63d4099a-1af6-4efe-96fb-e3a1c905ef21"
      },
      "execution_count": 12,
      "outputs": [
        {
          "name": "stdout",
          "output_type": "stream",
          "text": [
            "Enter your IP address (or 'exit' to quit): 192.171.60.48\n",
            "Valid IP address\n",
            "Enter your IP address (or 'exit' to quit): 222.234.99.10\n",
            "Valid IP address\n",
            "Enter your IP address (or 'exit' to quit): 402.333.22.11\n",
            "Invalid IP address\n",
            "Enter your IP address (or 'exit' to quit): exit\n"
          ]
        }
      ]
    },
    {
      "cell_type": "code",
      "source": [],
      "metadata": {
        "id": "cHkwajkKMAYR"
      },
      "execution_count": null,
      "outputs": []
    }
  ]
}